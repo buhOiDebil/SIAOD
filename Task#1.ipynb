{
 "cells": [
  {
   "cell_type": "markdown",
   "id": "8980e6a0",
   "metadata": {},
   "source": [
    "Задача №1\n",
    "Даны две строки: s1 и s2 с одинаковым размером, проверьте, может ли некоторая перестановка строки s1 “победить” некоторую перестановку строки s2 или наоборот. Строка x может “победить” строку y (обе имеют размер n), если x[i]> = y[i] (в алфавитном порядке) для всех i от 0 до n-1"
   ]
  },
  {
   "cell_type": "code",
   "execution_count": 9,
   "id": "b61fbfcf",
   "metadata": {},
   "outputs": [
    {
     "name": "stdin",
     "output_type": "stream",
     "text": [
      "Первая строка:  абвгд\n",
      "Вторая строка:  бвгде\n"
     ]
    },
    {
     "name": "stdout",
     "output_type": "stream",
     "text": [
      "Строка \"бвгде\" может победить строку \"абвгд\"\n"
     ]
    }
   ],
   "source": [
    "#функция поиска максимального символа\n",
    "def max_small(letter, A):\n",
    "    max = \" \"\n",
    "    for char in A:\n",
    "        if char <= letter and char > max:\n",
    "            max = char\n",
    "    return max\n",
    "\n",
    "def str_win(s1, s2):\n",
    "    list1 = list(s1)\n",
    "    list2 = list(s2)\n",
    "    #перебор всех символов на возможную победу\n",
    "    for i in range(len(list1)):\n",
    "        if max_small(list1[i], list2) != \" \":\n",
    "            list2.remove(max_small(list1[i], list2))\n",
    "        else:\n",
    "            return False\n",
    "    return True\n",
    "\n",
    "s1 = input(\"Первая строка: \")\n",
    "s2 = input(\"Вторая строка: \")\n",
    "if str_win(s1, s2):\n",
    "    print(\"Строка \\\"{}\\\" может победить строку \\\"{}\\\"\".format(s1, s2))\n",
    "elif str_win(s2, s1):\n",
    "    print(\"Строка \\\"{}\\\" может победить строку \\\"{}\\\"\".format(s2, s1))\n",
    "else:\n",
    "    print(\"Такой перестановки не существует\")"
   ]
  },
  {
   "cell_type": "markdown",
   "id": "eda29342",
   "metadata": {},
   "source": [
    "Задача №2\n",
    "Дана строка s, вернуть самую длинную полиндромную подстроку в s."
   ]
  },
  {
   "cell_type": "code",
   "execution_count": 3,
   "id": "b2611275",
   "metadata": {},
   "outputs": [
    {
     "name": "stdin",
     "output_type": "stream",
     "text": [
      "Введите строку:  ghfjhgsvdgweewl;m;kcnz\n"
     ]
    },
    {
     "name": "stdout",
     "output_type": "stream",
     "text": [
      "Самая длинная полиндромная строка:weew\n"
     ]
    }
   ],
   "source": [
    "s=input(\"Введите строку: \")\n",
    "\n",
    "m = \" \"\n",
    "\n",
    "#после прохождения по всей строке перемещаемся на один символ вперед и сравниваем с длинной предыдещуго полиндрома, \n",
    "#если таковой есть\n",
    "for i in range(len(s)-1):\n",
    "    for j in range(i+1,len(s)+1):\n",
    "        string = s[i:j]\n",
    "\n",
    "        if (string == string[::-1] and len(string)!=1 and len(string)>len(m)):\n",
    "            m = string\n",
    "print(\"Самая длинная полиндромная строка:\"+ m)"
   ]
  },
  {
   "cell_type": "markdown",
   "id": "d91b1b8a",
   "metadata": {},
   "source": [
    "Задача №3\n",
    "Вернуть количество отдельных непустых подстрок текста, которые могут быть записаны как конкатенация некоторой строки с самой собой (т.е. она может быть записана, как a + a, где a - некоторая строка)."
   ]
  },
  {
   "cell_type": "code",
   "execution_count": 18,
   "id": "0c07306d",
   "metadata": {},
   "outputs": [
    {
     "name": "stdin",
     "output_type": "stream",
     "text": [
      "Введите строку:  ascabcabs\n"
     ]
    },
    {
     "name": "stdout",
     "output_type": "stream",
     "text": [
      "Количество отдельных непустых подстрок:1\n"
     ]
    }
   ],
   "source": [
    "def concat(s):\n",
    "    L = len(s)\n",
    "    k = 0\n",
    "    \n",
    "    parts = []\n",
    "    for i in range(2, L, 2):\n",
    "        for j in range(L - i + 1):\n",
    "            word = s[j:j + i]\n",
    "            #разбиение подстроки \n",
    "            part1 = word[:i // 2]\n",
    "            part2 = word[i // 2:]\n",
    "            if part1 == part2 and not part1 in parts:\n",
    "                parts.append(part1)\n",
    "                k += 1\n",
    "    \n",
    "    return (\"Количество отдельных непустых подстрок:\"+str(k))\n",
    "\n",
    "print(concat(input(\"Введите строку: \")))"
   ]
  },
  {
   "cell_type": "code",
   "execution_count": null,
   "id": "a8b00b68",
   "metadata": {},
   "outputs": [],
   "source": []
  }
 ],
 "metadata": {
  "kernelspec": {
   "display_name": "Python 3 (ipykernel)",
   "language": "python",
   "name": "python3"
  },
  "language_info": {
   "codemirror_mode": {
    "name": "ipython",
    "version": 3
   },
   "file_extension": ".py",
   "mimetype": "text/x-python",
   "name": "python",
   "nbconvert_exporter": "python",
   "pygments_lexer": "ipython3",
   "version": "3.10.4"
  }
 },
 "nbformat": 4,
 "nbformat_minor": 5
}
