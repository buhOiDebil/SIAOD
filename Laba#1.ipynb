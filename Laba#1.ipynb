{
 "cells": [
  {
   "cell_type": "markdown",
   "id": "957608ac",
   "metadata": {},
   "source": [
    "Задание №1\n",
    "Написать генератор случайных матриц, который принимает опциональные параметры m, n, min_limit, max_limit, где m и n указывают размер матрицы, а min_lim и max_lim - минимальное и максимальное значение для генерируемого числа . По умолчанию при отсутствии параметров принимать следующие значения: m = 50 n = 50 min_limit = -250 max_limit = 250"
   ]
  },
  {
   "cell_type": "code",
   "execution_count": 5,
   "id": "3413f020",
   "metadata": {},
   "outputs": [],
   "source": [
    "import random\n",
    "def generator(m = 50, n = 50, min_limit = -250, max_limit = 1011):\n",
    "    matrix = []\n",
    "    for i in range(m):\n",
    "        matrix.append([])\n",
    "        for j in range(n):\n",
    "            matrix[i].append(random.randint(min_limit, max_limit + 1))\n",
    "    return matrix"
   ]
  },
  {
   "cell_type": "markdown",
   "id": "f087e924",
   "metadata": {},
   "source": [
    "Задание №2 Реализовать методы сортировки строк числовой матрицы в соответствии с заданием. Оценить время работы каждого алгоритма сортировки и сравнить его со временем стандартной функции сортировки. Испытания проводить на сгенерированных матрицах. Методы: 1) выбором 2) вставкой 3) обменом 4) Шелла 5) турнирная 6) быстрая сортировка"
   ]
  },
  {
   "cell_type": "code",
   "execution_count": 6,
   "id": "c6db3fab",
   "metadata": {},
   "outputs": [
    {
     "name": "stdout",
     "output_type": "stream",
     "text": [
      "Время сортировки выбором:  0.0\n"
     ]
    }
   ],
   "source": [
    "import time\n",
    "n_matrix = generator()\n",
    "start = time.time()\n",
    "def selection_sort(matrix):\n",
    "    for i in range(len(matrix)):\n",
    "        number_of_min = i\n",
    "        for j in range(i, len(matrix)):\n",
    "            if matrix[j] < matrix[number_of_min]:\n",
    "                number_of_min = j\n",
    "        matrix[i], matrix[number_of_min] = matrix[number_of_min], matrix[i]\n",
    "    print(\"Время сортировки выбором: \", (time.time() - start)*1000)\n",
    "selection_sort(n_matrix)"
   ]
  },
  {
   "cell_type": "code",
   "execution_count": 7,
   "id": "c5599a56",
   "metadata": {},
   "outputs": [
    {
     "name": "stdout",
     "output_type": "stream",
     "text": [
      "Время работы сортировки вставкой:  0.0\n"
     ]
    }
   ],
   "source": [
    "import time\n",
    "n_matrix = generator()\n",
    "start = time.time()\n",
    "def insertion_sort(matrix):\n",
    "    for i in range(len(matrix) - 1):\n",
    "        number = i\n",
    "        while number > 0 and matrix[number - 1] > matrix[i]:\n",
    "            matrix[number] = matrix[number - 1]\n",
    "            number -= 1\n",
    "    print(\"Время работы сортировки вставкой: \", (time.time() - start)*1000)\n",
    "insertion_sort(n_matrix)"
   ]
  },
  {
   "cell_type": "code",
   "execution_count": 8,
   "id": "f14e1c4a",
   "metadata": {},
   "outputs": [
    {
     "name": "stdout",
     "output_type": "stream",
     "text": [
      "Время работы сортировки обменом:  0.9951591491699219\n"
     ]
    }
   ],
   "source": [
    "import time\n",
    "n_matrix = generator()\n",
    "start = time.time()\n",
    "def bubble_sort(matrix):\n",
    "    for i in range(len(matrix) - 1):\n",
    "        for j in range(i):\n",
    "            if matrix[j] > matrix[j + 1]:\n",
    "                matrix[j], matrix[j + 1] = matrix[j + 1], matrix[j]\n",
    "    print(\"Время работы сортировки обменом: \", (time.time() - start)*1000)\n",
    "bubble_sort(n_matrix)"
   ]
  },
  {
   "cell_type": "code",
   "execution_count": 9,
   "id": "79f7b4b5",
   "metadata": {},
   "outputs": [
    {
     "name": "stdout",
     "output_type": "stream",
     "text": [
      "Время работы сортировки Шелла:  0.0\n"
     ]
    }
   ],
   "source": [
    "import time\n",
    "n_matrix = generator()\n",
    "start = time.time()\n",
    "def shell_sort(matrix):\n",
    "    distance = len(matrix) // 2\n",
    "    while distance > 0:\n",
    "        for i in range(len(matrix) - distance):\n",
    "            if matrix[i] > matrix[i + distance]:\n",
    "                matrix[i], matrix[i + distance] = matrix[i + distance], matrix[i]\n",
    "        distance //= 2\n",
    "    print(\"Время работы сортировки Шелла: \", (time.time() - start)*1000)\n",
    "shell_sort(n_matrix)"
   ]
  },
  {
   "cell_type": "code",
   "execution_count": 10,
   "id": "0850adeb",
   "metadata": {},
   "outputs": [
    {
     "name": "stdout",
     "output_type": "stream",
     "text": [
      "Время работы турнирной сортировки:  0.9968280792236328\n"
     ]
    }
   ],
   "source": [
    "import time\n",
    "n_matrix = generator()\n",
    "start = time.time()\n",
    "def heapify(matrix, lenght, index):\n",
    "        maximum = index\n",
    "        left = 2 * index\n",
    "        right = 2 * index + 1\n",
    "        if left < lenght and matrix[maximum] < matrix[left]:\n",
    "            maximum = left\n",
    "        if right < lenght and matrix[maximum] < matrix[right]:\n",
    "            maximum = right\n",
    "        if maximum != index:\n",
    "            matrix[index], matrix[maximum] = matrix[maximum], matrix[index]\n",
    "            heapify(matrix, lenght, maximum)\n",
    "        return matrix\n",
    "def tour_sort(matrix):  \n",
    "    for i in range(len(matrix) // 2, -1, -1):\n",
    "        heapify(matrix, len(matrix), i)\n",
    "    for i in range(len(matrix) - 1, -1, -1):\n",
    "        if matrix[0] > matrix[i]:\n",
    "            matrix[0], matrix[i] = matrix[i], matrix[0]\n",
    "            heapify(matrix, i, 0)\n",
    "    print(\"Время работы турнирной сортировки: \", (time.time() - start)*1000)\n",
    "tour_sort(n_matrix)"
   ]
  },
  {
   "cell_type": "code",
   "execution_count": 11,
   "id": "6175e32f",
   "metadata": {},
   "outputs": [
    {
     "name": "stdout",
     "output_type": "stream",
     "text": [
      "Время работы быстрой сортировки:  0.0\n"
     ]
    }
   ],
   "source": [
    "import time\n",
    "n_matrix = generator()\n",
    "def quick_sort(matrix):\n",
    "    if len(matrix) <= 1:\n",
    "        return matrix\n",
    "    prop = matrix[0]\n",
    "    left = [i for i in matrix if i < prop]\n",
    "    center = [i for i in matrix if i == prop]\n",
    "    right = [i for i in matrix if i > prop]\n",
    "    final_matrix = quick_sort(left) + center + quick_sort(right)\n",
    "    return final_matrix\n",
    "q_start = time.time()\n",
    "quick_sort(n_matrix)\n",
    "finish = time.time()\n",
    "print(\"Время работы быстрой сортировки: \",finish-q_start)"
   ]
  }
 ],
 "metadata": {
  "kernelspec": {
   "display_name": "Python 3 (ipykernel)",
   "language": "python",
   "name": "python3"
  },
  "language_info": {
   "codemirror_mode": {
    "name": "ipython",
    "version": 3
   },
   "file_extension": ".py",
   "mimetype": "text/x-python",
   "name": "python",
   "nbconvert_exporter": "python",
   "pygments_lexer": "ipython3",
   "version": "3.10.4"
  }
 },
 "nbformat": 4,
 "nbformat_minor": 5
}
