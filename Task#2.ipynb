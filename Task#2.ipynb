{
 "cells": [
  {
   "cell_type": "markdown",
   "id": "arctic-stocks",
   "metadata": {
    "tags": []
   },
   "source": [
    "### Задание №1\n",
    "Массив A состоит из целых положительных чисел длин отрезков. Составьте из трех отрезков такой треугольник, чтобы его периметр был максимально возможным. Если невозможно составить треугольник с положительной площадью функция возвращает 0."
   ]
  },
  {
   "cell_type": "code",
   "execution_count": 2,
   "id": "2674b480-af6f-44cc-983f-5a9c11c64c28",
   "metadata": {
    "tags": []
   },
   "outputs": [
    {
     "name": "stdin",
     "output_type": "stream",
     "text": [
      " 50\n"
     ]
    },
    {
     "name": "stdout",
     "output_type": "stream",
     "text": [
      "[17, 22, 88, 91, 98, 117, 149, 152, 159, 160, 161, 171, 193, 205, 232, 255, 270, 277, 313, 325, 327, 357, 375, 413, 418, 421, 445, 469, 475, 488, 505, 523, 547, 610, 688, 693, 697, 707, 713, 738, 746, 757, 757, 845, 870, 884, 909, 923, 931, 946]\n",
      "a= 923  b= 22  c= 946\n",
      "Максимальный возможный периметр =  1891"
     ]
    }
   ],
   "source": [
    "import random\n",
    "\n",
    "n = int(input())\n",
    "\n",
    "def generator (n , min_limit = 1, max_limit = 1000):\n",
    "    matrix = []\n",
    "    for i in range (n):\n",
    "        matrix.append([])\n",
    "        matrix[i] = random.randint(min_limit, max_limit)\n",
    "    list.sort(matrix)\n",
    "    return matrix\n",
    "\n",
    "A = generator(n)\n",
    "\n",
    "print(A, end=\"\\n\")\n",
    "\n",
    "Result = 0\n",
    "break_flag = False\n",
    "\n",
    "for i in range(n-1, 2,-1):\n",
    "    if break_flag == True:\n",
    "        break\n",
    "    c = A[i]\n",
    "    for j in range(i-1, 1, -1):\n",
    "        if break_flag == True:\n",
    "            break\n",
    "        a = A[j]\n",
    "        max_b = c - a\n",
    "        if A[0] <= max_b:\n",
    "            A_changed = A\n",
    "            del A_changed[j:i]\n",
    "            #A_changed.pop(i)\n",
    "            #A_changed.pop(j)\n",
    "            for f in range(j-1, 0, -1):\n",
    "                if A_changed[f] <= max_b:\n",
    "                    b = A_changed[f]\n",
    "                    break_flag = True\n",
    "                    Result = 1\n",
    "                    break\n",
    "\n",
    "\n",
    "if Result == 0:\n",
    "    print(Result)\n",
    "else:\n",
    "    Perimetr = c+a+b\n",
    "    print(\"a=\",a,' b=',b,' c=', c,end='\\n')\n",
    "    print(\"Максимальный возможный периметр = \",Perimetr, end=\"\")"
   ]
  },
  {
   "cell_type": "markdown",
   "id": "maritime-conversation",
   "metadata": {
    "tags": []
   },
   "source": [
    "### Задание №2\n",
    "Дан массив неотрицательных целых чисел nums. Расположите их в таком порядке, чтобы вместе они образовали максимально возможное число. Замечание: Результат может быть очень большим числом, поэтому представьте его как string, а не integer."
   ]
  },
  {
   "cell_type": "code",
   "execution_count": 4,
   "id": "alert-charm",
   "metadata": {},
   "outputs": [
    {
     "name": "stdin",
     "output_type": "stream",
     "text": [
      " 6\n"
     ]
    },
    {
     "name": "stdout",
     "output_type": "stream",
     "text": [
      "[99, 357, 427, 628, 1066, 1262]\n",
      "Максимальное возможное число =  62884277357712621066999\n"
     ]
    }
   ],
   "source": [
    "import random\n",
    "\n",
    "n=int(input())\n",
    "\n",
    "def generator (n , min_limit = 1, max_limit = 1500):\n",
    "    matrix = []\n",
    "    for i in range (n):\n",
    "        matrix.append([])\n",
    "        matrix[i] = random.randint(min_limit, max_limit)\n",
    "    list.sort(matrix)\n",
    "    return matrix\n",
    "\n",
    "nums = generator(n)\n",
    "\n",
    "print(nums)\n",
    "\n",
    "#Находим максимальное количество цифр в числе\n",
    "maxDigits = 0\n",
    "for i in range (n):\n",
    "    digitsCount = len(str(nums[i]))\n",
    "    if maxDigits < digitsCount:\n",
    "        maxDigits = digitsCount\n",
    "#создаем функцию для сортировки массива под наши нужды\n",
    "def maxNumber(nums, n, maxDigits):\n",
    "    A = nums\n",
    "    #Дополняем каждое число в массиве последней цифрой до необходимого числа символов\n",
    "    for i in range (n):\n",
    "        s = str(A[i])\n",
    "        lastNumber = s[len(s)-1]\n",
    "        if len(str(A[i])) < maxDigits:\n",
    "            temp = str(A[i])\n",
    "            s = s + lastNumber\n",
    "            A[i] = int(s)\n",
    "    #Проводим синхронную сортировку исходного и измененного массива, беря значения измененного за ключ\n",
    "    x = zip(A, nums)\n",
    "    xs = sorted(x, key = lambda tup : tup[0], reverse = True)\n",
    "    numsChanged = [x[0] for x in xs]\n",
    "    return numsChanged\n",
    "\n",
    "numsChanged = maxNumber(nums, n, maxDigits)\n",
    "s = \"\"\n",
    "for i in range (n):\n",
    "    s = s + str(numsChanged[i])\n",
    "print(\"Максимальное возможное число = \",s)"
   ]
  },
  {
   "cell_type": "markdown",
   "id": "catholic-roots",
   "metadata": {},
   "source": [
    "### Задание №3\n",
    "Дана матрица mat размером m * n, значения целочисленные. Напишите функцию, сортирующую каждую диагональ матрицы по возрастанию и возвращающую получившуюся матрицу."
   ]
  },
  {
   "cell_type": "code",
   "execution_count": 6,
   "id": "d9d8f9a7-4ef5-4ef8-b0ba-c18bc155b1cc",
   "metadata": {},
   "outputs": [
    {
     "name": "stdin",
     "output_type": "stream",
     "text": [
      " 6\n"
     ]
    },
    {
     "name": "stdout",
     "output_type": "stream",
     "text": [
      "[[[-134], -139, -86, -154, -49, [186]], [220, [-133], 175, -20, [92], -58], [190, -175, [25], [6], -42, 113], [-195, 191, [-4], [148], -107, -41], [214, [-60], -75, -151, [177], 52], [[-158], 76, 232, -72, -35, [191]]]\n"
     ]
    }
   ],
   "source": [
    "import random\n",
    "\n",
    "n = int(input())\n",
    "\n",
    "\n",
    "def generator(n, min_limit=-250, max_limit=251):\n",
    "    matrix = []\n",
    "    for i in range(n):\n",
    "        matrix.append([])\n",
    "        for j in range(n):\n",
    "            matrix[i].append(random.randint(min_limit, max_limit))\n",
    "    return matrix\n",
    "\n",
    "\n",
    "A = generator(n)\n",
    "main = []\n",
    "side = []\n",
    "\n",
    "for i in range(n - 1, -1, -1):\n",
    "    side.append([])\n",
    "    side[n-1-i].append(A[n-1-i][i])\n",
    "side.sort()\n",
    "\n",
    "for i in range(n):\n",
    "    main.append([])\n",
    "    main[i].append(A[i][i])\n",
    "main.sort()\n",
    "\n",
    "for i in range(n):\n",
    "    for j in range(n):\n",
    "        if i == j:\n",
    "            A[i][j] = main[i]\n",
    "\n",
    "for i in range(n - 1, -1, -1):\n",
    "    A[i][n-1-i] = side[n-1-i]\n",
    "\n",
    "print(A)"
   ]
  }
 ],
 "metadata": {
  "kernelspec": {
   "display_name": "Python 3 (ipykernel)",
   "language": "python",
   "name": "python3"
  },
  "language_info": {
   "codemirror_mode": {
    "name": "ipython",
    "version": 3
   },
   "file_extension": ".py",
   "mimetype": "text/x-python",
   "name": "python",
   "nbconvert_exporter": "python",
   "pygments_lexer": "ipython3",
   "version": "3.10.4"
  }
 },
 "nbformat": 4,
 "nbformat_minor": 5
}
